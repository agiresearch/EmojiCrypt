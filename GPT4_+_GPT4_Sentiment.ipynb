{
  "nbformat": 4,
  "nbformat_minor": 0,
  "metadata": {
    "colab": {
      "provenance": []
    },
    "kernelspec": {
      "name": "python3",
      "display_name": "Python 3"
    },
    "language_info": {
      "name": "python"
    }
  },
  "cells": [
    {
      "cell_type": "code",
      "execution_count": null,
      "metadata": {
        "id": "K2mp0JmWdTbc"
      },
      "outputs": [],
      "source": [
        "!pip install wheel setuptools pip --upgrade\n",
        "!pip install --upgrade openai\n",
        "!pip install rouge\n",
        "!pip install nltk\n",
        "!pip install bert_score\n",
        "!pip install -U sentence-transformers"
      ]
    },
    {
      "cell_type": "markdown",
      "source": [
        "## Data Processing"
      ],
      "metadata": {
        "id": "Ni7WPaSQLjhN"
      }
    },
    {
      "cell_type": "code",
      "source": [
        "import pandas as pd\n",
        "import random\n",
        "from openai import OpenAI\n",
        "from sentence_transformers import SentenceTransformer\n",
        "from sklearn.metrics.pairwise import cosine_similarity\n",
        "from rouge import Rouge\n",
        "from bert_score import score\n",
        "import numpy as np\n",
        "\n",
        "review_df = pd.read_csv('IMDB Dataset.csv')"
      ],
      "metadata": {
        "id": "X_YoCwNMLiD9"
      },
      "execution_count": 2,
      "outputs": []
    },
    {
      "cell_type": "markdown",
      "source": [
        "##Non-Reusable Encryption & Performance Evaluation"
      ],
      "metadata": {
        "id": "C6IMmzVeMYQf"
      }
    },
    {
      "cell_type": "code",
      "source": [
        "API_KEY = ''\n",
        "client = OpenAI(api_key = API_KEY)\n",
        "model_id = 'gpt-4-1106-preview'\n",
        "\n",
        "# Define the system message\n",
        "system_msg = \"Please serve as a binary sentiment classifier on movie reviews.\"\n",
        "\n",
        "right_count = 0\n",
        "compressed_right_count = 0\n",
        "total = 0\n",
        "gpt_review_pairs = []\n",
        "\n",
        "for index, row in review_df.iterrows():\n",
        "\n",
        "    original_prompt = (\n",
        "            f\"Given the following movie review: {row['review']}; \"\n",
        "            f\"Determine the sentiment of the review; Do NOT explain anything, just output positive or negative, in lower case:\"\n",
        "    )\n",
        "\n",
        "    completion = client.chat.completions.create(\n",
        "            model = model_id, temperature = 0,\n",
        "            messages=[{\"role\": \"system\", \"content\": system_msg},\n",
        "                        {\"role\": \"user\", \"content\": original_prompt }],\n",
        "            timeout = 1200)\n",
        "\n",
        "    original_pred = completion.choices[0].message.content\n",
        "\n",
        "    total += 1\n",
        "    if row['sentiment'] == original_pred:\n",
        "        right_count += 1\n",
        "\n",
        "\n",
        "    # Perform review encryption\n",
        "    compress_prompt = (\n",
        "        \"Transform the following movie review into a highly condensed, NON-natural language sequence. \"\n",
        "        \"This sequence should be rich in information and capture all the emotional nuances of the review. \"\n",
        "        \"You may use a mix of arbitrary characters, emojis, emoticons (Ex. '^-^', '-_-', etc.), as well as math & logical operators (Ex. '->', '+', '<=', etc.). \"\n",
        "        \"The output should be easy to understand for GPT-4. \"\n",
        "        # \"After compression, generate a brief natural language explaination on how GPT-4 will interpret it. \"\n",
        "        \"You are also encouraged to paraphrase and/or amplify the emotional aspect of the review before compressing. Please use as fewer tokens as possible! \\n\\n\"\n",
        "        f\"Review to transform: {row['review']}\"\n",
        "    )\n",
        "\n",
        "    completion = client.chat.completions.create(\n",
        "            model = model_id, temperature = 0, max_tokens = 200,\n",
        "            messages=[{\"role\": \"system\", \"content\": 'Please serve as a movie review compressor according to the prompt'},\n",
        "                        {\"role\": \"user\", \"content\": compress_prompt}],\n",
        "            timeout = 1200)\n",
        "\n",
        "    compressed_review = completion.choices[0].message.content\n",
        "\n",
        "    # visualize encrypted review\n",
        "    print(row['review'])\n",
        "    print(compressed_review)\n",
        "    print()\n",
        "\n",
        "    sentiment_analysis_prompt = (\n",
        "        \"You are given a movie review presented as a compressed NON-natural language sequence, \"\n",
        "        \"utilizing a mix of arbitrary characters, emojis, emoticons, and special characters. \"\n",
        "        \"This sequence encapsulates the emotional content of the original review. \"\n",
        "        \"Analyze the sentiment of the compressed review and ONLY output it as either 'positive' or 'negative', \"\n",
        "        \"without detailing the decoding process or explanations. Below is the compressed review: \\n\\n\"\n",
        "        f\"{compressed_review}\"\n",
        "    )\n",
        "\n",
        "    completion = client.chat.completions.create(\n",
        "            model = model_id, temperature = 0,\n",
        "            messages=[{\"role\": \"system\", \"content\": system_msg},\n",
        "                        {\"role\": \"user\", \"content\": sentiment_analysis_prompt}],\n",
        "            timeout = 1200)\n",
        "\n",
        "    compressed_pred = completion.choices[0].message.content\n",
        "\n",
        "    if row['sentiment'] == compressed_pred:\n",
        "        compressed_right_count += 1\n",
        "\n",
        "\n",
        "    if total % 10 == 0 or total == review_df.shape[0]:\n",
        "        print(f\"Accuracy: {right_count/total}\")\n",
        "        print(f\"Compressed Accuracy: {compressed_right_count/total}\")\n",
        "        print()\n",
        "\n",
        "\n",
        "    decryption_prompt = (\n",
        "        \"Given the following compressed movie review in non-natural language form: \"\n",
        "        f\"{compressed_review} \\n\\n\"\n",
        "        \"Try to decrypt it into a natural language review; return the decoded review only: \"\n",
        "    )\n",
        "\n",
        "    decryption_completion = client.chat.completions.create(\n",
        "            model = model_id, temperature = 0,\n",
        "            messages=[{\"role\": \"system\", \"content\": \"You are to serve as a decrypter for movie reviews represented in emojis, emoticons, abbreviated characters, as well as math & logical operators (Ex. '->', '+', '<=', etc.).\"},\n",
        "                        {\"role\": \"user\", \"content\": decryption_prompt}],\n",
        "            timeout = 1200)\n",
        "\n",
        "    decryption_pred = decryption_completion.choices[0].message.content\n",
        "    gpt_review_pairs.append( [row['review'], decryption_pred] )\n",
        "\n",
        "    # # If you would like to test for a subset\n",
        "    # if total == 300:\n",
        "    #     break\n"
      ],
      "metadata": {
        "id": "hm09Q2D6dbgm"
      },
      "execution_count": null,
      "outputs": []
    },
    {
      "cell_type": "markdown",
      "source": [
        "## Decryption Robustness Test"
      ],
      "metadata": {
        "id": "yqIQY2DANeKu"
      }
    },
    {
      "cell_type": "code",
      "source": [
        "# Initialize ROUGE\n",
        "rouge = Rouge()\n",
        "\n",
        "# Initialize a dictionary to accumulate scores\n",
        "accumulated_scores = {\"rouge-1\": {\"f\": 0, \"p\": 0, \"r\": 0},\n",
        "                      \"rouge-2\": {\"f\": 0, \"p\": 0, \"r\": 0},\n",
        "                      \"rouge-l\": {\"f\": 0, \"p\": 0, \"r\": 0}}\n",
        "\n",
        "for i in range( len(gpt_review_pairs) ):\n",
        "    original_review = gpt_review_pairs[i][0]\n",
        "    decryption_review = gpt_review_pairs[i][1]\n",
        "\n",
        "    scores = rouge.get_scores(decryption_review, original_review)[0]\n",
        "\n",
        "    # Accumulate scores\n",
        "    for k, v in scores.items():\n",
        "        for score_type, score_value in v.items():\n",
        "            accumulated_scores[k][score_type] += score_value\n",
        "\n",
        "\n",
        "# Calculate average scores\n",
        "num_pairs = len(gpt_review_pairs)\n",
        "average_scores = {k: {score_type: score_value / num_pairs for score_type, score_value in v.items()} for k, v in accumulated_scores.items()}\n",
        "\n",
        "# Print average scores, rounded to 4 decimal places\n",
        "for k, v in average_scores.items():\n",
        "    print(f\"{k}:\")\n",
        "    for score_type, score_value in v.items():\n",
        "        print(f\"  {score_type}: {round(score_value, 4)}\")\n"
      ],
      "metadata": {
        "id": "5qDfGhxUgHI_"
      },
      "execution_count": null,
      "outputs": []
    },
    {
      "cell_type": "code",
      "source": [
        "overall_similarity_score = 0\n",
        "for i in range( len(gpt_review_pairs) ):\n",
        "    original_review = gpt_review_pairs[i][0]\n",
        "    decryption_review = gpt_review_pairs[i][1]\n",
        "\n",
        "    response = client.embeddings.create(\n",
        "        input=original_review,\n",
        "        model=\"text-embedding-3-small\",\n",
        "        dimensions = 100,\n",
        "    )\n",
        "    original_review_embedding = np.array(response.data[0].embedding)\n",
        "    original_review_embedding = original_review_embedding.reshape(1, -1)\n",
        "\n",
        "    # You can reduce the dimensions of the embedding by passing in the dimensions parameter without\n",
        "    # the embedding losing its concept-representing properties: set to 100 to mitigate curse of dimensionality\n",
        "    response = client.embeddings.create(\n",
        "        input=decryption_review,\n",
        "        model=\"text-embedding-3-small\",\n",
        "        dimensions = 100,\n",
        "    )\n",
        "    decryption_review_embedding = np.array(response.data[0].embedding)\n",
        "    decryption_review_embedding = decryption_review_embedding.reshape(1, -1)\n",
        "\n",
        "    similarity_score = cosine_similarity(original_review_embedding, decryption_review_embedding)\n",
        "    overall_similarity_score += similarity_score\n",
        "\n",
        "print()\n",
        "print('Mean cosine sim: ', overall_similarity_score / len(gpt_review_pairs))"
      ],
      "metadata": {
        "id": "nsRHOzcggJDT"
      },
      "execution_count": null,
      "outputs": []
    }
  ]
}